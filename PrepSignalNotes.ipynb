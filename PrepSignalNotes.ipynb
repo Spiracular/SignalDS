{
 "cells": [
  {
   "cell_type": "markdown",
   "metadata": {},
   "source": [
    "# [Three Toed Sloth: Data Scientists ](http://bactra.org/weblog/925.html)\n",
    "\n",
    "Some notes on subsets of what is useful DS and stats knowledge.\n",
    "\n",
    "## Math\n",
    "- Multidimensional Calculus\n",
    "- Differential Equations\n",
    "- Linear Algebra\n",
    "- Fourier Analysis\n",
    "\n",
    "## Useful CS Additions\n",
    "- Scripting language like R or Python (required)\n",
    "- Machine Learning\n",
    "- Information Retrieval\n",
    "- Natural Language Processing\n",
    "- Databases\n",
    "- Signal Processing\n",
    "- (Several instances of applied CS to fields, ex: physics)\n",
    "\n",
    "## Example Statistics Electives:\n",
    "- Statistical Graphics\n",
    "- Statistical Computing\n",
    "- Experimental Design\n",
    "- Stochastic Prcoesses\n",
    "- Epidemiology\n",
    "- Experimental Design\n",
    "- Unsupervised Learning and Clustering\n",
    "- Multivariate Methods\n",
    "- Complex Systems"
   ]
  },
  {
   "cell_type": "markdown",
   "metadata": {},
   "source": [
    "# [Tech Job Hunting & Interviews by Haseeb Q.](http://haseebq.com/how-to-break-into-tech-job-hunting-and-interviews/)\n",
    "\n",
    ">It's more of a \"go into a cave for six months and hopefully get a job when you emerge\" sort of thing.\n",
    "\n",
    "Overview\n",
    "1. Getting Interviews\n",
    "1. Interview Process\n",
    "1. Negotiating\n",
    "\n",
    "Every application is a long-shot, but apply to loads and you'll probably get some successes.\n",
    "\n",
    "## **Networking** \n",
    "\n",
    "Probably the highest leverage activity in getting job offers\n",
    "\n",
    "*In a nutshell:* Buy everyone coffee ($everyone \\ \\in \\ tech \\ company$)\n",
    "\n",
    "Plumb your network (friends and friends of friends)\n",
    "\n",
    "Go go meetups, local events, developer conferences, house parties, etc.\n",
    "\n",
    "For even more: @Person twitter, cold-email specific people\n",
    "\n",
    "### Informational Interviewing\n",
    "\n",
    "(What you do at coffee.)\n",
    "\n",
    "**Learn everything you can about:**\n",
    "- This person\n",
    "- Their company\n",
    "- Their industry and the technology they work with\n",
    "- Why it's important\n",
    "- Ask about what interests you\n",
    "\n",
    "**DO** ask lots of questions, get them to do most of the talking\n",
    "\n",
    "**DON'T** ask for a job\n",
    "\n",
    "**Close:** ask \"Who else do you know who'd be a good person for me to talk to?\" Tell them you want to know more about $X \\in things \\ dicussed$. Or ask if they know anyone else in your career that you can talk to.\n",
    "\n"
   ]
  },
  {
   "cell_type": "code",
   "execution_count": null,
   "metadata": {
    "collapsed": true
   },
   "outputs": [],
   "source": []
  }
 ],
 "metadata": {
  "kernelspec": {
   "display_name": "Python 3",
   "language": "python",
   "name": "python3"
  },
  "language_info": {
   "codemirror_mode": {
    "name": "ipython",
    "version": 3
   },
   "file_extension": ".py",
   "mimetype": "text/x-python",
   "name": "python",
   "nbconvert_exporter": "python",
   "pygments_lexer": "ipython3",
   "version": "3.5.1"
  }
 },
 "nbformat": 4,
 "nbformat_minor": 0
}
