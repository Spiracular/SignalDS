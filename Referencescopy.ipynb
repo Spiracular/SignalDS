{
 "cells": [
  {
   "cell_type": "markdown",
   "metadata": {},
   "source": [
    "## The basics\n",
    "\n",
    "[Python help functions reference](http://www.linuxnix.com/python-builtin-helpdir-help-type-and-___doc_-functions/)\n",
    "\n",
    "[Guide to Python Introspection](http://www.ibm.com/developerworks/library/l-pyint/index.html) (love the term)\n",
    "\n",
    "[A quick review of Markdown](https://guides.github.com/features/mastering-markdown/)\n",
    "\n",
    "[Working with Missing Data](http://pandas.pydata.org/pandas-docs/stable/missing_data.html)\n",
    "\n",
    "[A command-line cheat-sheet](https://www.git-tower.com/blog/command-line-cheat-sheet/)\n",
    "\n",
    "[Github cheatsheet](https://services.github.com/kit/downloads/github-git-cheat-sheet.pdf) (see also: \"the usual\" in appendix)\n",
    "\n",
    "[Some Jupyter shortcuts](http://johnlaudun.org/20131228-ipython-notebook-keyboard-shortcuts/)\n",
    "\n",
    "Oh, btw! ctrl-B and you can run sublime in console.\n",
    "\n",
    "(Also, there are add-ons to run chunks)"
   ]
  },
  {
   "cell_type": "markdown",
   "metadata": {},
   "source": [
    "## Distributions\n",
    "\n",
    "[Scipy.stats distributions list](http://docs.scipy.org/doc/scipy/reference/stats.html)\n",
    "\n",
    "[Gaussian Process](https://en.wikipedia.org/wiki/Gaussian_process): Mentioned as one of ensemble methods that won the African Soil Kaggle challenge. Basic concept appears to be assuming normal distributions for all predictive variables and forming the distribution for the output variable as a linear combination of those."
   ]
  },
  {
   "cell_type": "markdown",
   "metadata": {},
   "source": [
    "## Graphing\n",
    "\n",
    "[MatPlotLib basic graphs](http://jakevdp.github.io/mpl_tutorial/tutorial_pages/tut3.html)\n",
    "\n",
    "[Seaborn tutorial](https://github.com/alfredessa/pdacookbook/blob/master/PythonPandasCookbook5.2.ipynb) (bit out-of-date, see docs for new arg layout)\n",
    "\n",
    "[Useful ggplot2 reference](http://sape.inf.usi.ch/quick-reference/ggplot2)\n",
    "\n",
    "See also: **GraphReference**"
   ]
  },
  {
   "cell_type": "markdown",
   "metadata": {},
   "source": [
    "## Examples and Inspiration\n",
    "\n",
    "[Jupyter notebooks on nbviewer & beyond](https://nbviewer.jupyter.org/)\n",
    "\n"
   ]
  },
  {
   "cell_type": "markdown",
   "metadata": {},
   "source": [
    "# Appendix\n",
    "\n",
    "## Git Sequence (\"The Usual\")\n",
    "\n",
    "status, diff, add, commit -m, push origin master\n",
    "\n",
    "## Common Git Problem Solving\n",
    "\n",
    "### Defining origin or master\n",
    "\n",
    "git remote -v (checks what you already have set)\n",
    "\n",
    "git remote set-url origin https://github.com/SOMETHING.git\n",
    "\n",
    "### Reverting a file\n",
    "\n",
    "see: http://stackoverflow.com/questions/215718/reset-or-revert-a-specific-file-to-a-specific-revision-using-git"
   ]
  },
  {
   "cell_type": "markdown",
   "metadata": {
    "collapsed": true
   },
   "source": [
    "## Other\n",
    "\n",
    "[Some Jupyter Flowchart](http://jupyter.readthedocs.io/en/latest/projects/content-projects.html#content-projects)"
   ]
  },
  {
   "cell_type": "markdown",
   "metadata": {
    "collapsed": true
   },
   "source": [
    "## Scikit Learn References\n",
    "\n",
    "[Scikit Learn Cross Validation Link](http://scikit-learn.org/stable/modules/cross_validation.html)\n",
    "\n",
    "[Scoring options reference](http://scikit-learn.org/stable/modules/model_evaluation.html) for cross_val_score and similar\n",
    "\n",
    "\n",
    "A note: with additional args, CountVectorizer is capable of doing preprocessing, tokenization, or stop word removal if you specify the function it should use to perform these tasks.\n"
   ]
  },
  {
   "cell_type": "markdown",
   "metadata": {
    "collapsed": true
   },
   "source": [
    "## NEW SECTION: Bayesian Stats with R\n",
    "\n",
    "[An Overview](http://www.sumsar.net/blog/2013/06/three-ways-to-run-bayesian-models-in-r/)\n",
    "\n",
    "### JAGS\n",
    "Stands for Just Another Gibbs Sampler\n",
    "\n",
    "(Gibbs sampling is a Markov chain Monte Carlo algorithm; Gibbs was a father of statistical mechanics (?))\n",
    "\n",
    "\n",
    "side-note: Fundamental statistical mechanics equation: $Z = \\sum_q{e^{\\tiny\\dfrac{E(q)}{k_B T}}}$\n",
    "\n",
    "## [Stan](http://mc-stan.org/)\n",
    "Uses rstan package\n",
    "\n",
    "Compiles to C++ program and uses No-U-Turn sampler to generate MCMC samples from model.\n",
    "\n",
    "IMPORTANT NOTE: rstan requires all variables and parameters to be declared explicitly, and insists on ending all lines with ;\n",
    "\n",
    "Quick example in the cell below.\n",
    "\n",
    "\n",
    "\n"
   ]
  },
  {
   "cell_type": "markdown",
   "metadata": {},
   "source": [
    "## [Useful ggplot2 reference](http://sape.inf.usi.ch/quick-reference/ggplot2)"
   ]
  },
  {
   "cell_type": "code",
   "execution_count": null,
   "metadata": {
    "collapsed": true
   },
   "outputs": [],
   "source": [
    "library(rstan)\n",
    "\n",
    "# The model specification\n",
    "model_string <- \"\n",
    "data {\n",
    "  int<lower=0> N;\n",
    "  real y[N];\n",
    "}\n",
    "\n",
    "parameters {\n",
    "  real mu;\n",
    "  real<lower=0> sigma;\n",
    "}\n",
    "model{\n",
    "  y ~ normal(mu, sigma);\n",
    "  mu ~ normal(0, 100);\n",
    "  sigma ~ lognormal(0, 4);\n",
    "}\"\n",
    "\n",
    "# Running the model\n",
    "mcmc_samples <- stan(model_code=model_string, data=list(N=length(y), y=y), pars=c(\"mu\", \"sigma\"), chains=3, iter=30000, warmup=10000)"
   ]
  }
 ],
 "metadata": {
  "kernelspec": {
   "display_name": "Python 3",
   "language": "python",
   "name": "python3"
  },
  "language_info": {
   "codemirror_mode": {
    "name": "ipython",
    "version": 3
   },
   "file_extension": ".py",
   "mimetype": "text/x-python",
   "name": "python",
   "nbconvert_exporter": "python",
   "pygments_lexer": "ipython3",
   "version": "3.5.2"
  }
 },
 "nbformat": 4,
 "nbformat_minor": 0
}
