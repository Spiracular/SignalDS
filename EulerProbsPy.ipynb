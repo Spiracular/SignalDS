{
 "cells": [
  {
   "cell_type": "markdown",
   "metadata": {},
   "source": [
    "# [Project Euler](https://projecteuler.net/archives)"
   ]
  },
  {
   "cell_type": "code",
   "execution_count": null,
   "metadata": {
    "collapsed": true
   },
   "outputs": [],
   "source": [
    "# Problem 3: Largest prime factor"
   ]
  },
  {
   "cell_type": "code",
   "execution_count": 6,
   "metadata": {
    "collapsed": false
   },
   "outputs": [
    {
     "ename": "SyntaxError",
     "evalue": "EOL while scanning string literal (<ipython-input-6-6ff9e12622e8>, line 1)",
     "output_type": "error",
     "traceback": [
      "\u001b[0;36m  File \u001b[0;32m\"<ipython-input-6-6ff9e12622e8>\"\u001b[0;36m, line \u001b[0;32m1\u001b[0m\n\u001b[0;31m    tristr = \"\u001b[0m\n\u001b[0m              ^\u001b[0m\n\u001b[0;31mSyntaxError\u001b[0m\u001b[0;31m:\u001b[0m EOL while scanning string literal\n"
     ]
    }
   ],
   "source": [
    "tristr = list()\n",
    "for i in 1:15\n",
    "    tristr[i] = \n",
    "\n",
    "\"75,\n",
    "95, 64,\n",
    "17, 47, 82,\n",
    "18, 35, 87, 10,\n",
    "20, 04, 82, 47, 65\n",
    "19, 01, 23, 75, 03, 34\n",
    "88, 02, 77, 73, 07, 63, 67\n",
    "99, 65, 04, 28, 06, 16, 70, 92\n",
    "41, 41, 26, 56, 83, 40, 80, 70, 33\n",
    "41, 48, 72, 33, 47, 32, 37, 16, 94, 29\n",
    "53, 71, 44, 65, 25, 43, 91, 52, 97, 51, 14\n",
    "70, 11, 33, 28, 77, 73, 17, 78, 39, 68, 17, 57\n",
    "91, 71, 52, 38, 17, 14, 91, 43, 58, 50, 27, 29, 48\n",
    "63, 66, 04, 68, 89, 53, 67, 30, 73, 16, 69, 87, 40, 31\n",
    "04, 62, 98, 27, 23, 09, 70, 98, 73, 93, 38, 53, 60, 04, 23\""
   ]
  },
  {
   "cell_type": "markdown",
   "metadata": {},
   "source": [
    "Some useful adjacent concepts\n",
    "- [Priority Queue](https://en.wikipedia.org/wiki/Priority_queue)\n",
    "- [Dijkstra's (pathfinding) Algorithm](https://en.wikipedia.org/wiki/Dijkstra%27s_algorithm)\n",
    "\n",
    "Minimizes distance between nodes.\n",
    "\n",
    "-[A-star algorithm](https://en.wikipedia.org/wiki/A*_search_algorithm)\n",
    "-[Tree Traversal](https://en.wikipedia.org/wiki/Tree_traversal)\n",
    "\n",
    "Some more distant ideas\n",
    "-[Graph Traversal](https://en.wikipedia.org/wiki/Graph_traversal)\n",
    "- [Time Complexity](https://en.wikipedia.org/wiki/Time_complexity)"
   ]
  },
  {
   "cell_type": "markdown",
   "metadata": {},
   "source": [
    "So, I'd prefer to implement this with a priority queue and with results spat out on regular intervals (print? It would be nice if I knew how to make the code shut down after a time as well, though) while the rest of the code still runs. If that's possible?\n",
    "\n",
    "What do I want a priority queue to look like?\n",
    "\n",
    "- Prefers higher values\n",
    "- Discounts by average expected value for nodes further in? (if something overperforms, then underperforms)\n",
    "    -Average could be established by a few baseline tree runs\n",
    "-\n",
    "\n",
    "for top-down node a, the children nodes are a and a+1 (if extant)\n",
    "\n",
    "Another strange add: normalization (and the mentality of workarounds if there's a clearly unpreferable node of extent 1)[breaks some stuff if some have high means, though. Don't.]\n",
    "\n",
    "\n",
    "\n",
    "paths\n",
    "#path_i= [s, d] #s=score, d=sum\n",
    "priority= \n",
    "#spit out highest priority path item every move?\n",
    "  "
   ]
  }
 ],
 "metadata": {
  "kernelspec": {
   "display_name": "Python 3",
   "language": "python",
   "name": "python3"
  },
  "language_info": {
   "codemirror_mode": {
    "name": "ipython",
    "version": 3
   },
   "file_extension": ".py",
   "mimetype": "text/x-python",
   "name": "python",
   "nbconvert_exporter": "python",
   "pygments_lexer": "ipython3",
   "version": "3.5.1"
  }
 },
 "nbformat": 4,
 "nbformat_minor": 0
}
