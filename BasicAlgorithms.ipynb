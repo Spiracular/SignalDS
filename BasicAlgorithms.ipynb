{
 "cells": [
  {
   "cell_type": "code",
   "execution_count": 21,
   "metadata": {
    "collapsed": false
   },
   "outputs": [
    {
     "name": "stdout",
     "output_type": "stream",
     "text": [
      "Populating the interactive namespace from numpy and matplotlib\n"
     ]
    },
    {
     "name": "stderr",
     "output_type": "stream",
     "text": [
      "WARNING: pylab import has clobbered these variables: ['compress', 'prod']\n",
      "`%matplotlib` prevents importing * from pylab and numpy\n"
     ]
    }
   ],
   "source": [
    "%pylab inline\n",
    "\n",
    "import numpy as np\n",
    "import matplotlib.pyplot as plt\n",
    "import pandas as pd\n",
    "import math"
   ]
  },
  {
   "cell_type": "code",
   "execution_count": 22,
   "metadata": {
    "collapsed": true
   },
   "outputs": [],
   "source": [
    "import timeit"
   ]
  },
  {
   "cell_type": "code",
   "execution_count": 16,
   "metadata": {
    "collapsed": false
   },
   "outputs": [
    {
     "name": "stdout",
     "output_type": "stream",
     "text": [
      "233168\n"
     ]
    }
   ],
   "source": [
    "#Project Euler 1:\n",
    "#Sum of all natural numbers that are multiples of 3 or 5, below 1000.\n",
    "\n",
    "\n",
    "def gen35(d):\n",
    "    end = 0\n",
    "    for i in range(1,d):\n",
    "        if i%3 == 0 or i%5 == 0:\n",
    "            end+=i\n",
    "    print (end)\n",
    "\n",
    "gen35(1000)\n",
    "\n",
    "#squares = list(map(lambda x: x**2, range(n)))\n",
    "\n",
    "\n"
   ]
  },
  {
   "cell_type": "code",
   "execution_count": 35,
   "metadata": {
    "collapsed": false
   },
   "outputs": [
    {
     "data": {
      "text/plain": [
       "4613732"
      ]
     },
     "execution_count": 35,
     "metadata": {},
     "output_type": "execute_result"
    }
   ],
   "source": [
    "#Project Euler 2:\n",
    "#Fibonacci Sequences\n",
    "###Sum of evens for values under 4 million\n",
    "\n",
    "def FibSumCond (max_val, Cond):\n",
    "    #Calculate out the fibs up to FibSumCond\n",
    "    #get TF via Cond\n",
    "    #Sum it\n",
    "    fib_list = list()\n",
    "    fib_mat = np.matrix([[1, 1], [1, 0]])\n",
    "    if max_val <= 1:\n",
    "        return (\"Low value\")\n",
    "    s=0\n",
    "    fib=fib_mat\n",
    "    \n",
    "    while fib[0,0]<=max_val:\n",
    "        fib = fib * fib_mat\n",
    "        if Cond(fib[0,0]):\n",
    "            s+=fib[0,0]\n",
    "    return(s)\n",
    "\n",
    "def Evens(x):\n",
    "    return (x%2==0)\n",
    "\n",
    "FibSumCond(max_val = 4000000, Cond=Evens)\n",
    "\n",
    "#FibSumCond(max_val = (4*10^6), Cond  = Evens)\n",
    "\n",
    "\n"
   ]
  },
  {
   "cell_type": "code",
   "execution_count": 18,
   "metadata": {
    "collapsed": false
   },
   "outputs": [
    {
     "data": {
      "text/plain": [
       "matrix([[2, 1],\n",
       "        [1, 1]])"
      ]
     },
     "execution_count": 18,
     "metadata": {},
     "output_type": "execute_result"
    }
   ],
   "source": [
    "FibMat = np.matrix([[1, 1], [1, 0]])\n",
    "n=5\n",
    "fib= FibMat**n\n",
    "#fib[0,0]\n",
    "#FibMat*FibMat\n",
    "FibMat^100"
   ]
  },
  {
   "cell_type": "code",
   "execution_count": 1,
   "metadata": {
    "collapsed": false
   },
   "outputs": [
    {
     "data": {
      "text/plain": [
       "[2, 3, 5, 7, 11, 13, 17, 19, 23]"
      ]
     },
     "execution_count": 1,
     "metadata": {},
     "output_type": "execute_result"
    }
   ],
   "source": [
    "#Sieve of Erastosthenes\n",
    "from itertools import compress\n",
    "\n",
    "def sieve(N):\n",
    "    ran = range(2,N+1)\n",
    "    filt = [True] * len(ran)\n",
    "    topn = int(N/2)#int(ceil(sqrt(N)))\n",
    "    for i in range(2,N):\n",
    "        for j in range(2,topn+1):\n",
    "            ji =i*j\n",
    "            if ji<=N:\n",
    "                filt[ji-2]=False\n",
    "    return(list(compress(ran, filt)))\n",
    "\n",
    "sieve(23)"
   ]
  },
  {
   "cell_type": "code",
   "execution_count": null,
   "metadata": {
    "collapsed": false
   },
   "outputs": [],
   "source": [
    "#Euler Problem 3:\n",
    "#Largest Prime Factors\n",
    "###(Implementing Sieve of Erastosthenes first)\n",
    "#600851475143\n",
    "\n",
    "#This is too slow to run\n",
    "def LgPrFc(n):\n",
    "    topn = int(ceil(n/2))\n",
    "    primery = sieve(topn)\n",
    "    primery.reverse()\n",
    "    k=1\n",
    "    for p in primery:\n",
    "        k=n%p\n",
    "        if k==0:\n",
    "            return(p)\n",
    "    return(n)\n",
    "    \n",
    "\n",
    "LgPrFc(600851475143)"
   ]
  },
  {
   "cell_type": "code",
   "execution_count": 58,
   "metadata": {
    "collapsed": false
   },
   "outputs": [
    {
     "data": {
      "text/plain": [
       "3.872983346207417"
      ]
     },
     "execution_count": 58,
     "metadata": {},
     "output_type": "execute_result"
    }
   ],
   "source": [
    "sqrt(15)"
   ]
  },
  {
   "cell_type": "code",
   "execution_count": 19,
   "metadata": {
    "collapsed": false
   },
   "outputs": [
    {
     "name": "stdout",
     "output_type": "stream",
     "text": [
      "Palandrome is 906609\n"
     ]
    }
   ],
   "source": [
    "#Euler Problem 4:\n",
    "#Largest palindrome product of 2 3-digit numbers\n",
    "\n",
    "def pallindrome():\n",
    "    #numi = 999\n",
    "    veci = range(999,111,-1)\n",
    "    keeper = []\n",
    "\n",
    "    for n in range(0,887):\n",
    "        mults = veci[0:n]\n",
    "        for xs in mults:\n",
    "            s=str(xs*veci[n])\n",
    "            if s == s[::-1]:\n",
    "                keeper.append(int(s))\n",
    "        #print(\"Palandrome is {}, and numbers are {}, {}\" .format(s, xs, veci[n]))\n",
    "    print (\"Palandrome is {}\".format(max(keeper)))\n",
    "\n",
    "    \n",
    "            \n",
    "#        pro = changer*lis\n",
    "#        for i in range(999-changer, 0):\n",
    "#            s = str(pro[i])\n",
    "#            #print (\"{},{}\".format(pal[0],pal[1]))\n",
    "#            if s == s[::-1]:\n",
    "#                print(\"Palandrome is {}, and numbers are {}, {}\" .format(s, stable, changer))\n",
    "#                return()\n",
    "#        changer = changer-1\n",
    "\n",
    "\n",
    "pallindrome()\n",
    "\n",
    "#np.array\n",
    "\n",
    "#Augh, I'm not sure what an efficient way to explore this space would be. Bleh :P\n",
    "\n",
    "#Hm... how does one determine whether n*m or n+1 * m-1 would be greater? Any heuristics?\n",
    "##Looks like decrement them alternatingly, see below\n",
    "##Could work with pal[0]==pal[1]\n",
    "###Damn, this does not explore the space of all possible solutions though.\n",
    "###All it accomplishes is minimizing the difference between one prod and the next.\n",
    "\n",
    "##Play it out for first 5 numbers\n",
    "##Try to math at it (set a given m-1>n+1)\n",
    "\n",
    "###Okay, so the variant I actually want is to run through all the higher numebers\n",
    "#for the other pair every time\n",
    "\n",
    "###Weird, it's still missing the correct answer of 906609\n",
    "#And still... 888888 is not correct\n",
    "\n",
    "#993, 913 -> 906609\n",
    "#It was stopping at 962, 924 -> 888888\n"
   ]
  },
  {
   "cell_type": "code",
   "execution_count": 92,
   "metadata": {
    "collapsed": false
   },
   "outputs": [
    {
     "data": {
      "text/plain": [
       "952.16017560072316"
      ]
     },
     "execution_count": 92,
     "metadata": {},
     "output_type": "execute_result"
    }
   ],
   "source": [
    "sqrt(906609)"
   ]
  },
  {
   "cell_type": "code",
   "execution_count": 108,
   "metadata": {
    "collapsed": false
   },
   "outputs": [
    {
     "data": {
      "text/plain": [
       "range(1, 0)"
      ]
     },
     "execution_count": 108,
     "metadata": {},
     "output_type": "execute_result"
    }
   ],
   "source": [
    "range(99-98,0)"
   ]
  },
  {
   "cell_type": "code",
   "execution_count": 74,
   "metadata": {
    "collapsed": false
   },
   "outputs": [
    {
     "name": "stdout",
     "output_type": "stream",
     "text": [
      "Palandrome is 90909, and numbers are [91, 999]\n"
     ]
    }
   ],
   "source": [
    "pal = [999,999]\n",
    "for i in range(1000):\n",
    "    pro = product(pal)\n",
    "    s = str(pro)\n",
    "    #print (\"{},{}\".format(pal[0],pal[1]))\n",
    "    if s == s[::-1]:\n",
    "        print(\"Palandrome is {}, and numbers are {}\" .format(s, pal))\n",
    "        break\n",
    "    pal[0] = pal[0]-1"
   ]
  },
  {
   "cell_type": "code",
   "execution_count": 52,
   "metadata": {
    "collapsed": false
   },
   "outputs": [
    {
     "name": "stdout",
     "output_type": "stream",
     "text": [
      "0 (List: [10, 10], Prod: 100)\n",
      "1 (List: [9, 10], Prod: 90)\n",
      "0 (List: [9, 9], Prod: 81)\n",
      "1 (List: [8, 9], Prod: 72)\n",
      "0 (List: [8, 8], Prod: 64)\n",
      "1 (List: [7, 8], Prod: 56)\n",
      "0 (List: [7, 7], Prod: 49)\n",
      "1 (List: [6, 7], Prod: 42)\n",
      "0 (List: [6, 6], Prod: 36)\n",
      "1 (List: [5, 6], Prod: 30)\n"
     ]
    }
   ],
   "source": [
    "start = [10,10]\n",
    "for i in range(10):\n",
    "    sm = product(start)\n",
    "    nex = [(start[0]-1)*start[1], start[0]*(start[1]-1)] \n",
    "    iex = np.argmax(nex)\n",
    "    print (\"{} (List: {}, Prod: {})\".format(iex, start, sm))\n",
    "    start[iex] = start[iex]-1\n",
    "    \n",
    "#Okay, so the more efficient way to find the palandrome is to alternate which one you decrement?\n",
    "Palandrome is 698896, and numbers are [836, 836]"
   ]
  },
  {
   "cell_type": "code",
   "execution_count": 50,
   "metadata": {
    "collapsed": false
   },
   "outputs": [],
   "source": [
    "?np.argmax"
   ]
  },
  {
   "cell_type": "code",
   "execution_count": 18,
   "metadata": {
    "collapsed": false
   },
   "outputs": [],
   "source": [
    "?np.matrix"
   ]
  },
  {
   "cell_type": "code",
   "execution_count": null,
   "metadata": {
    "collapsed": true
   },
   "outputs": [],
   "source": [
    "from functools import reduce\n",
    "import operator"
   ]
  },
  {
   "cell_type": "code",
   "execution_count": 17,
   "metadata": {
    "collapsed": false
   },
   "outputs": [
    {
     "data": {
      "text/plain": [
       "210"
      ]
     },
     "execution_count": 17,
     "metadata": {},
     "output_type": "execute_result"
    }
   ],
   "source": [
    "#Euler Problem 5\n",
    "def prod(iterator):\n",
    "    return(reduce(operator.mul, iterator, 1))\n",
    "\n",
    "prod(sieve(10))\n",
    "#2520 is the real answer, so this doesn't get us the whole way there. Find the highest power available for each prime.\n",
    "#...which would be a nuissance to calculate by division or log, so figure it out with multiplication/exponentiation?\n",
    "#alternatively: divide out some of the numbers somehow? (bleh, no)\n",
    "\n",
    "\n",
    "\n"
   ]
  },
  {
   "cell_type": "code",
   "execution_count": 23,
   "metadata": {
    "collapsed": false
   },
   "outputs": [],
   "source": [
    "?log() #Only a few options, like log10 and log2"
   ]
  },
  {
   "cell_type": "code",
   "execution_count": null,
   "metadata": {
    "collapsed": true
   },
   "outputs": [],
   "source": [
    "#Run Length Encoding\n",
    "\n",
    "def arg_max(v):\n",
    "    \n",
    "def longest_run(v):\n",
    "    "
   ]
  },
  {
   "cell_type": "code",
   "execution_count": 9,
   "metadata": {
    "collapsed": false
   },
   "outputs": [],
   "source": [
    "?np.array"
   ]
  },
  {
   "cell_type": "code",
   "execution_count": 48,
   "metadata": {
    "collapsed": false
   },
   "outputs": [],
   "source": [
    "?divmod"
   ]
  },
  {
   "cell_type": "code",
   "execution_count": 20,
   "metadata": {
    "collapsed": false
   },
   "outputs": [],
   "source": [
    "?random.sample"
   ]
  },
  {
   "cell_type": "code",
   "execution_count": 13,
   "metadata": {
    "collapsed": false
   },
   "outputs": [
    {
     "data": {
      "text/plain": [
       "True"
      ]
     },
     "execution_count": 13,
     "metadata": {},
     "output_type": "execute_result"
    }
   ],
   "source": [
    "#samples = random.sample(range(1,231780), 23178)\n",
    "samples[1:5]\n",
    "#type(samples)\n",
    "36911 in samples"
   ]
  },
  {
   "cell_type": "code",
   "execution_count": 6,
   "metadata": {
    "collapsed": false
   },
   "outputs": [
    {
     "name": "stdout",
     "output_type": "stream",
     "text": [
      "This is a series of lines\n",
      "\n",
      "To make it easeier for me to\n",
      "\n"
     ]
    }
   ],
   "source": [
    "#?enumerate\n",
    "\n",
    "f = open('LinesTest.txt', 'r')\n",
    "for i, line in enumerate(f):\n",
    "    if i < 2:\n",
    "    # This is the 26th line\n",
    "        print (line)\n",
    "    elif i > 25:\n",
    "        # Exit the loop\n",
    "        break\n",
    "f.close()"
   ]
  },
  {
   "cell_type": "code",
   "execution_count": 21,
   "metadata": {
    "collapsed": false
   },
   "outputs": [
    {
     "ename": "JSONDecodeError",
     "evalue": "Expecting value: line 1 column 1 (char 0)",
     "output_type": "error",
     "traceback": [
      "\u001b[0;31m---------------------------------------------------------------------------\u001b[0m",
      "\u001b[0;31mJSONDecodeError\u001b[0m                           Traceback (most recent call last)",
      "\u001b[0;32m<ipython-input-21-089cf3459a61>\u001b[0m in \u001b[0;36m<module>\u001b[0;34m()\u001b[0m\n\u001b[1;32m      3\u001b[0m \u001b[0mf\u001b[0m\u001b[0;34m.\u001b[0m\u001b[0mclose\u001b[0m\u001b[0;34m(\u001b[0m\u001b[0;34m)\u001b[0m\u001b[0;34m\u001b[0m\u001b[0m\n\u001b[1;32m      4\u001b[0m \u001b[0;32mimport\u001b[0m \u001b[0mjson\u001b[0m\u001b[0;34m\u001b[0m\u001b[0m\n\u001b[0;32m----> 5\u001b[0;31m \u001b[0md\u001b[0m \u001b[0;34m=\u001b[0m \u001b[0mjson\u001b[0m\u001b[0;34m.\u001b[0m\u001b[0mloads\u001b[0m\u001b[0;34m(\u001b[0m\u001b[0ml\u001b[0m\u001b[0;34m)\u001b[0m\u001b[0;34m\u001b[0m\u001b[0m\n\u001b[0m\u001b[1;32m      6\u001b[0m \u001b[0mprint\u001b[0m\u001b[0;34m(\u001b[0m\u001b[0md\u001b[0m\u001b[0;34m)\u001b[0m\u001b[0;34m\u001b[0m\u001b[0m\n\u001b[1;32m      7\u001b[0m \u001b[0mprint\u001b[0m\u001b[0;34m(\u001b[0m\u001b[0md\u001b[0m\u001b[0;34m[\u001b[0m\u001b[0;34m'reviewText'\u001b[0m\u001b[0;34m]\u001b[0m\u001b[0;34m)\u001b[0m\u001b[0;34m\u001b[0m\u001b[0m\n",
      "\u001b[0;32m/Users/Spirapple/anaconda/lib/python3.5/json/__init__.py\u001b[0m in \u001b[0;36mloads\u001b[0;34m(s, encoding, cls, object_hook, parse_float, parse_int, parse_constant, object_pairs_hook, **kw)\u001b[0m\n\u001b[1;32m    317\u001b[0m             \u001b[0mparse_int\u001b[0m \u001b[0;32mis\u001b[0m \u001b[0;32mNone\u001b[0m \u001b[0;32mand\u001b[0m \u001b[0mparse_float\u001b[0m \u001b[0;32mis\u001b[0m \u001b[0;32mNone\u001b[0m \u001b[0;32mand\u001b[0m\u001b[0;34m\u001b[0m\u001b[0m\n\u001b[1;32m    318\u001b[0m             parse_constant is None and object_pairs_hook is None and not kw):\n\u001b[0;32m--> 319\u001b[0;31m         \u001b[0;32mreturn\u001b[0m \u001b[0m_default_decoder\u001b[0m\u001b[0;34m.\u001b[0m\u001b[0mdecode\u001b[0m\u001b[0;34m(\u001b[0m\u001b[0ms\u001b[0m\u001b[0;34m)\u001b[0m\u001b[0;34m\u001b[0m\u001b[0m\n\u001b[0m\u001b[1;32m    320\u001b[0m     \u001b[0;32mif\u001b[0m \u001b[0mcls\u001b[0m \u001b[0;32mis\u001b[0m \u001b[0;32mNone\u001b[0m\u001b[0;34m:\u001b[0m\u001b[0;34m\u001b[0m\u001b[0m\n\u001b[1;32m    321\u001b[0m         \u001b[0mcls\u001b[0m \u001b[0;34m=\u001b[0m \u001b[0mJSONDecoder\u001b[0m\u001b[0;34m\u001b[0m\u001b[0m\n",
      "\u001b[0;32m/Users/Spirapple/anaconda/lib/python3.5/json/decoder.py\u001b[0m in \u001b[0;36mdecode\u001b[0;34m(self, s, _w)\u001b[0m\n\u001b[1;32m    337\u001b[0m \u001b[0;34m\u001b[0m\u001b[0m\n\u001b[1;32m    338\u001b[0m         \"\"\"\n\u001b[0;32m--> 339\u001b[0;31m         \u001b[0mobj\u001b[0m\u001b[0;34m,\u001b[0m \u001b[0mend\u001b[0m \u001b[0;34m=\u001b[0m \u001b[0mself\u001b[0m\u001b[0;34m.\u001b[0m\u001b[0mraw_decode\u001b[0m\u001b[0;34m(\u001b[0m\u001b[0ms\u001b[0m\u001b[0;34m,\u001b[0m \u001b[0midx\u001b[0m\u001b[0;34m=\u001b[0m\u001b[0m_w\u001b[0m\u001b[0;34m(\u001b[0m\u001b[0ms\u001b[0m\u001b[0;34m,\u001b[0m \u001b[0;36m0\u001b[0m\u001b[0;34m)\u001b[0m\u001b[0;34m.\u001b[0m\u001b[0mend\u001b[0m\u001b[0;34m(\u001b[0m\u001b[0;34m)\u001b[0m\u001b[0;34m)\u001b[0m\u001b[0;34m\u001b[0m\u001b[0m\n\u001b[0m\u001b[1;32m    340\u001b[0m         \u001b[0mend\u001b[0m \u001b[0;34m=\u001b[0m \u001b[0m_w\u001b[0m\u001b[0;34m(\u001b[0m\u001b[0ms\u001b[0m\u001b[0;34m,\u001b[0m \u001b[0mend\u001b[0m\u001b[0;34m)\u001b[0m\u001b[0;34m.\u001b[0m\u001b[0mend\u001b[0m\u001b[0;34m(\u001b[0m\u001b[0;34m)\u001b[0m\u001b[0;34m\u001b[0m\u001b[0m\n\u001b[1;32m    341\u001b[0m         \u001b[0;32mif\u001b[0m \u001b[0mend\u001b[0m \u001b[0;34m!=\u001b[0m \u001b[0mlen\u001b[0m\u001b[0;34m(\u001b[0m\u001b[0ms\u001b[0m\u001b[0;34m)\u001b[0m\u001b[0;34m:\u001b[0m\u001b[0;34m\u001b[0m\u001b[0m\n",
      "\u001b[0;32m/Users/Spirapple/anaconda/lib/python3.5/json/decoder.py\u001b[0m in \u001b[0;36mraw_decode\u001b[0;34m(self, s, idx)\u001b[0m\n\u001b[1;32m    355\u001b[0m             \u001b[0mobj\u001b[0m\u001b[0;34m,\u001b[0m \u001b[0mend\u001b[0m \u001b[0;34m=\u001b[0m \u001b[0mself\u001b[0m\u001b[0;34m.\u001b[0m\u001b[0mscan_once\u001b[0m\u001b[0;34m(\u001b[0m\u001b[0ms\u001b[0m\u001b[0;34m,\u001b[0m \u001b[0midx\u001b[0m\u001b[0;34m)\u001b[0m\u001b[0;34m\u001b[0m\u001b[0m\n\u001b[1;32m    356\u001b[0m         \u001b[0;32mexcept\u001b[0m \u001b[0mStopIteration\u001b[0m \u001b[0;32mas\u001b[0m \u001b[0merr\u001b[0m\u001b[0;34m:\u001b[0m\u001b[0;34m\u001b[0m\u001b[0m\n\u001b[0;32m--> 357\u001b[0;31m             \u001b[0;32mraise\u001b[0m \u001b[0mJSONDecodeError\u001b[0m\u001b[0;34m(\u001b[0m\u001b[0;34m\"Expecting value\"\u001b[0m\u001b[0;34m,\u001b[0m \u001b[0ms\u001b[0m\u001b[0;34m,\u001b[0m \u001b[0merr\u001b[0m\u001b[0;34m.\u001b[0m\u001b[0mvalue\u001b[0m\u001b[0;34m)\u001b[0m \u001b[0;32mfrom\u001b[0m \u001b[0;32mNone\u001b[0m\u001b[0;34m\u001b[0m\u001b[0m\n\u001b[0m\u001b[1;32m    358\u001b[0m         \u001b[0;32mreturn\u001b[0m \u001b[0mobj\u001b[0m\u001b[0;34m,\u001b[0m \u001b[0mend\u001b[0m\u001b[0;34m\u001b[0m\u001b[0m\n",
      "\u001b[0;31mJSONDecodeError\u001b[0m: Expecting value: line 1 column 1 (char 0)"
     ]
    }
   ],
   "source": [
    "f = open('LinesTest.txt', 'r')\n",
    "l = f.readline()\n",
    "f.close()\n",
    "import json\n",
    "d = json.loads(l)\n",
    "print(d)\n",
    "print(d['reviewText'])"
   ]
  },
  {
   "cell_type": "code",
   "execution_count": 31,
   "metadata": {
    "collapsed": false
   },
   "outputs": [],
   "source": [
    "?f.flush()"
   ]
  },
  {
   "cell_type": "code",
   "execution_count": 11,
   "metadata": {
    "collapsed": false
   },
   "outputs": [
    {
     "name": "stdout",
     "output_type": "stream",
     "text": [
      "998\n",
      "997\n",
      "996\n"
     ]
    }
   ],
   "source": [
    "#Attempt at a total do-over of Problem 3\n",
    "\n",
    "#Concept:\n",
    "#-make a palindrome-check function (which once returned, ends function)\n",
    "#-have a number repeatedly decremented by 1\n",
    "#-check that numeber times itself and every number higher up to limit\n",
    "#-insert these multiples highest-first into the palindrome-check function\n",
    "#-Spit out the number\n",
    "\n",
    "v = range(999,111,-1)\n",
    "for i in v[1:4]:\n",
    "    print (i)"
   ]
  },
  {
   "cell_type": "code",
   "execution_count": null,
   "metadata": {
    "collapsed": true
   },
   "outputs": [],
   "source": []
  },
  {
   "cell_type": "code",
   "execution_count": 5,
   "metadata": {
    "collapsed": false
   },
   "outputs": [],
   "source": [
    "?range"
   ]
  }
 ],
 "metadata": {
  "kernelspec": {
   "display_name": "Python 3",
   "language": "python",
   "name": "python3"
  },
  "language_info": {
   "codemirror_mode": {
    "name": "ipython",
    "version": 3
   },
   "file_extension": ".py",
   "mimetype": "text/x-python",
   "name": "python",
   "nbconvert_exporter": "python",
   "pygments_lexer": "ipython3",
   "version": "3.5.2"
  }
 },
 "nbformat": 4,
 "nbformat_minor": 0
}
