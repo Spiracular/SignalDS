{
 "cells": [
  {
   "cell_type": "code",
   "execution_count": 2,
   "metadata": {
    "collapsed": true
   },
   "outputs": [],
   "source": [
    "import numpy as np\n",
    "import pandas as pd\n",
    "from bs4 import BeautifulSoup\n",
    "import urllib.request\n",
    "import codecs"
   ]
  },
  {
   "cell_type": "code",
   "execution_count": 3,
   "metadata": {
    "collapsed": false
   },
   "outputs": [
    {
     "name": "stderr",
     "output_type": "stream",
     "text": [
      "/Users/Spirapple/anaconda/lib/python3.5/site-packages/bs4/__init__.py:166: UserWarning: No parser was explicitly specified, so I'm using the best available HTML parser for this system (\"lxml\"). This usually isn't a problem, but if you run this code on another system, or in a different virtual environment, it may use a different parser and behave differently.\n",
      "\n",
      "To get rid of this warning, change this:\n",
      "\n",
      " BeautifulSoup([your markup])\n",
      "\n",
      "to this:\n",
      "\n",
      " BeautifulSoup([your markup], \"lxml\")\n",
      "\n",
      "  markup_type=markup_type))\n"
     ]
    }
   ],
   "source": [
    "#Code from stackoverflow on reading html tables\n",
    "response = urllib.request.urlopen('https://en.wikipedia.org/wiki/List_of_film_sequels_by_box-office_improvement')\n",
    "html = response.read()\n",
    "soup = BeautifulSoup(html)"
   ]
  },
  {
   "cell_type": "code",
   "execution_count": 54,
   "metadata": {
    "collapsed": false
   },
   "outputs": [],
   "source": [
    "#soup.find(\"table\")\n",
    "#table.find_all(\"tr\")"
   ]
  },
  {
   "cell_type": "code",
   "execution_count": 99,
   "metadata": {
    "collapsed": false
   },
   "outputs": [],
   "source": [
    "table = soup.find(\"table\", attrs = {\"class\":\"sortable wikitable\"})"
   ]
  },
  {
   "cell_type": "code",
   "execution_count": 100,
   "metadata": {
    "collapsed": false
   },
   "outputs": [],
   "source": [
    "headings = [th.get_text() for th in table.find(\"tr\").find_all(\"th\")]"
   ]
  },
  {
   "cell_type": "code",
   "execution_count": 101,
   "metadata": {
    "collapsed": false
   },
   "outputs": [
    {
     "data": {
      "text/plain": [
       "['Title',\n",
       " 'Year',\n",
       " 'Gross (North America)',\n",
       " 'Title (original)',\n",
       " 'Year (original)',\n",
       " \"Original's gross (North America)\",\n",
       " 'Improvement']"
      ]
     },
     "execution_count": 101,
     "metadata": {},
     "output_type": "execute_result"
    }
   ],
   "source": [
    "headings"
   ]
  },
  {
   "cell_type": "code",
   "execution_count": 56,
   "metadata": {
    "collapsed": false
   },
   "outputs": [],
   "source": [
    "#This yields a list of zip objects I don't know how to work with\n",
    "datasets=[]\n",
    "\n",
    "for row in table.find_all(\"tr\")[2:]:\n",
    "    dataset = zip(headings, (td.get_text() for td in row.find_all(\"td\")))\n",
    "    datasets.append(dataset)"
   ]
  },
  {
   "cell_type": "code",
   "execution_count": 94,
   "metadata": {
    "collapsed": false
   },
   "outputs": [],
   "source": [
    "#While this yields a list of zip objects I don't know how to work with\n",
    "datasets=[]\n",
    "\n",
    "for row in table.find_all(\"tr\")[1:]:\n",
    "    dataset = [td.get_text() for td in row.find_all(\"td\")]\n",
    "    #Note: parens make generator object, [] get you the results in a list instead\n",
    "    datasets.append(dataset)"
   ]
  },
  {
   "cell_type": "code",
   "execution_count": 95,
   "metadata": {
    "collapsed": false
   },
   "outputs": [
    {
     "data": {
      "text/plain": [
       "['Desperado',\n",
       " '1995',\n",
       " '$25,405,445[3]',\n",
       " 'El Mariachi',\n",
       " '1992',\n",
       " '$2,040,920[3]',\n",
       " '1,170%']"
      ]
     },
     "execution_count": 95,
     "metadata": {},
     "output_type": "execute_result"
    }
   ],
   "source": [
    "#hell=(next(gen) for gen in datasets)\n",
    "datasets[1]"
   ]
  },
  {
   "cell_type": "code",
   "execution_count": 102,
   "metadata": {
    "collapsed": false
   },
   "outputs": [],
   "source": [
    "sequelDF=pd.DataFrame(data=datasets, columns = headings)"
   ]
  },
  {
   "cell_type": "code",
   "execution_count": 103,
   "metadata": {
    "collapsed": false
   },
   "outputs": [
    {
     "data": {
      "text/html": [
       "<div>\n",
       "<table border=\"1\" class=\"dataframe\">\n",
       "  <thead>\n",
       "    <tr style=\"text-align: right;\">\n",
       "      <th></th>\n",
       "      <th>Title</th>\n",
       "      <th>Year</th>\n",
       "      <th>Gross (North America)</th>\n",
       "      <th>Title (original)</th>\n",
       "      <th>Year (original)</th>\n",
       "      <th>Original's gross (North America)</th>\n",
       "      <th>Improvement</th>\n",
       "    </tr>\n",
       "  </thead>\n",
       "  <tbody>\n",
       "    <tr>\n",
       "      <th>0</th>\n",
       "      <td>The Boondock Saints II: All Saints Day</td>\n",
       "      <td>2009</td>\n",
       "      <td>$10,273,188[1]</td>\n",
       "      <td>The Boondock Saints</td>\n",
       "      <td>1999</td>\n",
       "      <td>$30,471[2]</td>\n",
       "      <td>33,714%</td>\n",
       "    </tr>\n",
       "    <tr>\n",
       "      <th>1</th>\n",
       "      <td>Desperado</td>\n",
       "      <td>1995</td>\n",
       "      <td>$25,405,445[3]</td>\n",
       "      <td>El Mariachi</td>\n",
       "      <td>1992</td>\n",
       "      <td>$2,040,920[3]</td>\n",
       "      <td>1,170%</td>\n",
       "    </tr>\n",
       "    <tr>\n",
       "      <th>2</th>\n",
       "      <td>Clerks II</td>\n",
       "      <td>2006</td>\n",
       "      <td>$24,148,068[4]</td>\n",
       "      <td>Clerks</td>\n",
       "      <td>1994</td>\n",
       "      <td>$3,151,130[5]</td>\n",
       "      <td>677%</td>\n",
       "    </tr>\n",
       "    <tr>\n",
       "      <th>3</th>\n",
       "      <td>The Color of Money</td>\n",
       "      <td>1986</td>\n",
       "      <td>$52,293,982[6]</td>\n",
       "      <td>The Hustler</td>\n",
       "      <td>1961</td>\n",
       "      <td>$7,600,000[7]</td>\n",
       "      <td>588%</td>\n",
       "    </tr>\n",
       "    <tr>\n",
       "      <th>4</th>\n",
       "      <td>Terminator 2: Judgment Day</td>\n",
       "      <td>1991</td>\n",
       "      <td>$204,843,345[8]</td>\n",
       "      <td>The Terminator</td>\n",
       "      <td>1984</td>\n",
       "      <td>$38,371,200[8]</td>\n",
       "      <td>434%</td>\n",
       "    </tr>\n",
       "  </tbody>\n",
       "</table>\n",
       "</div>"
      ],
      "text/plain": [
       "                                    Title  Year Gross (North America)  \\\n",
       "0  The Boondock Saints II: All Saints Day  2009        $10,273,188[1]   \n",
       "1                               Desperado  1995        $25,405,445[3]   \n",
       "2                               Clerks II  2006        $24,148,068[4]   \n",
       "3                      The Color of Money  1986        $52,293,982[6]   \n",
       "4              Terminator 2: Judgment Day  1991       $204,843,345[8]   \n",
       "\n",
       "      Title (original) Year (original) Original's gross (North America)  \\\n",
       "0  The Boondock Saints            1999                       $30,471[2]   \n",
       "1          El Mariachi            1992                    $2,040,920[3]   \n",
       "2               Clerks            1994                    $3,151,130[5]   \n",
       "3          The Hustler            1961                    $7,600,000[7]   \n",
       "4       The Terminator            1984                   $38,371,200[8]   \n",
       "\n",
       "  Improvement  \n",
       "0     33,714%  \n",
       "1      1,170%  \n",
       "2        677%  \n",
       "3        588%  \n",
       "4        434%  "
      ]
     },
     "execution_count": 103,
     "metadata": {},
     "output_type": "execute_result"
    }
   ],
   "source": [
    "sequelDF.head()"
   ]
  },
  {
   "cell_type": "code",
   "execution_count": 139,
   "metadata": {
    "collapsed": false
   },
   "outputs": [
    {
     "data": {
      "text/plain": [
       "70"
      ]
     },
     "execution_count": 139,
     "metadata": {},
     "output_type": "execute_result"
    }
   ],
   "source": [
    "#sequelDF.shape() #I don't know why this isn't working, dammit.\n",
    "len(sequelDF) #70 rows, probably 7 columns?\n",
    "#P.S.this does just cover the first table, as intended."
   ]
  },
  {
   "cell_type": "code",
   "execution_count": 105,
   "metadata": {
    "collapsed": true
   },
   "outputs": [],
   "source": [
    "import re"
   ]
  },
  {
   "cell_type": "code",
   "execution_count": 155,
   "metadata": {
    "collapsed": false
   },
   "outputs": [],
   "source": [
    "#Function to remove the brackets and punctuation in the Gross metrics\n",
    "\n",
    "#So there's easy ways to take out only the numbers (ex: re, tkinter),\n",
    "#but I need to remove the brackets first.\n",
    "\n",
    "#x=\"$219,614,612[81]\"\n",
    "\n",
    "def numerify(x):\n",
    "    x2 = re.sub(\"[\\(\\[].*?[\\)\\]]\", \"\", x)#stackoverflow\n",
    "    x3= re.findall(\"[0-9]+\",x2)\n",
    "    return(\"\".join(x3))\n",
    "\n"
   ]
  },
  {
   "cell_type": "code",
   "execution_count": 156,
   "metadata": {
    "collapsed": false
   },
   "outputs": [],
   "source": [
    "testing = sequelDF['Gross (North America)'].map(lambda x:numerify(x))\n",
    "#This works as intended!"
   ]
  },
  {
   "cell_type": "code",
   "execution_count": 158,
   "metadata": {
    "collapsed": false
   },
   "outputs": [],
   "source": [
    "sequelDF['Original\\'s gross (North America)']= sequelDF['Original\\'s gross (North America)'].map(lambda x:numerify(x))\n",
    "sequelDF['Gross (North America)']= sequelDF['Gross (North America)'].map(lambda x:numerify(x))"
   ]
  },
  {
   "cell_type": "code",
   "execution_count": 160,
   "metadata": {
    "collapsed": false
   },
   "outputs": [],
   "source": [
    "sequelDF.to_csv(\"data/Sequel.csv\", sep=\"|\", header=True, index=False)\n",
    "#sequelDF.head()"
   ]
  },
  {
   "cell_type": "code",
   "execution_count": 162,
   "metadata": {
    "collapsed": false
   },
   "outputs": [],
   "source": [
    "newseq = pd.read_csv(\"data/Sequel.csv\", sep=\"|\")"
   ]
  },
  {
   "cell_type": "code",
   "execution_count": 163,
   "metadata": {
    "collapsed": false
   },
   "outputs": [
    {
     "data": {
      "text/html": [
       "<div>\n",
       "<table border=\"1\" class=\"dataframe\">\n",
       "  <thead>\n",
       "    <tr style=\"text-align: right;\">\n",
       "      <th></th>\n",
       "      <th>Title</th>\n",
       "      <th>Year</th>\n",
       "      <th>Gross (North America)</th>\n",
       "      <th>Title (original)</th>\n",
       "      <th>Year (original)</th>\n",
       "      <th>Original's gross (North America)</th>\n",
       "      <th>Improvement</th>\n",
       "    </tr>\n",
       "  </thead>\n",
       "  <tbody>\n",
       "    <tr>\n",
       "      <th>0</th>\n",
       "      <td>The Boondock Saints II: All Saints Day</td>\n",
       "      <td>2009</td>\n",
       "      <td>10273188</td>\n",
       "      <td>The Boondock Saints</td>\n",
       "      <td>1999</td>\n",
       "      <td>30471</td>\n",
       "      <td>33,714%</td>\n",
       "    </tr>\n",
       "    <tr>\n",
       "      <th>1</th>\n",
       "      <td>Desperado</td>\n",
       "      <td>1995</td>\n",
       "      <td>25405445</td>\n",
       "      <td>El Mariachi</td>\n",
       "      <td>1992</td>\n",
       "      <td>2040920</td>\n",
       "      <td>1,170%</td>\n",
       "    </tr>\n",
       "    <tr>\n",
       "      <th>2</th>\n",
       "      <td>Clerks II</td>\n",
       "      <td>2006</td>\n",
       "      <td>24148068</td>\n",
       "      <td>Clerks</td>\n",
       "      <td>1994</td>\n",
       "      <td>3151130</td>\n",
       "      <td>677%</td>\n",
       "    </tr>\n",
       "    <tr>\n",
       "      <th>3</th>\n",
       "      <td>The Color of Money</td>\n",
       "      <td>1986</td>\n",
       "      <td>52293982</td>\n",
       "      <td>The Hustler</td>\n",
       "      <td>1961</td>\n",
       "      <td>7600000</td>\n",
       "      <td>588%</td>\n",
       "    </tr>\n",
       "    <tr>\n",
       "      <th>4</th>\n",
       "      <td>Terminator 2: Judgment Day</td>\n",
       "      <td>1991</td>\n",
       "      <td>204843345</td>\n",
       "      <td>The Terminator</td>\n",
       "      <td>1984</td>\n",
       "      <td>38371200</td>\n",
       "      <td>434%</td>\n",
       "    </tr>\n",
       "  </tbody>\n",
       "</table>\n",
       "</div>"
      ],
      "text/plain": [
       "                                    Title  Year  Gross (North America)  \\\n",
       "0  The Boondock Saints II: All Saints Day  2009               10273188   \n",
       "1                               Desperado  1995               25405445   \n",
       "2                               Clerks II  2006               24148068   \n",
       "3                      The Color of Money  1986               52293982   \n",
       "4              Terminator 2: Judgment Day  1991              204843345   \n",
       "\n",
       "      Title (original)  Year (original)  Original's gross (North America)  \\\n",
       "0  The Boondock Saints             1999                             30471   \n",
       "1          El Mariachi             1992                           2040920   \n",
       "2               Clerks             1994                           3151130   \n",
       "3          The Hustler             1961                           7600000   \n",
       "4       The Terminator             1984                          38371200   \n",
       "\n",
       "  Improvement  \n",
       "0     33,714%  \n",
       "1      1,170%  \n",
       "2        677%  \n",
       "3        588%  \n",
       "4        434%  "
      ]
     },
     "execution_count": 163,
     "metadata": {},
     "output_type": "execute_result"
    }
   ],
   "source": [
    "newseq.head() #Excellent, everything went well."
   ]
  },
  {
   "cell_type": "code",
   "execution_count": 119,
   "metadata": {
    "collapsed": false
   },
   "outputs": [
    {
     "ename": "ValueError",
     "evalue": "invalid literal for int() with base 10: '219,614,612'",
     "output_type": "error",
     "traceback": [
      "\u001b[0;31m---------------------------------------------------------------------------\u001b[0m",
      "\u001b[0;31mValueError\u001b[0m                                Traceback (most recent call last)",
      "\u001b[0;32m<ipython-input-119-151428c20d8a>\u001b[0m in \u001b[0;36m<module>\u001b[0;34m()\u001b[0m\n\u001b[0;32m----> 1\u001b[0;31m \u001b[0mint\u001b[0m\u001b[0;34m(\u001b[0m\u001b[0;34m\"219,614,612\"\u001b[0m\u001b[0;34m)\u001b[0m\u001b[0;34m\u001b[0m\u001b[0m\n\u001b[0m",
      "\u001b[0;31mValueError\u001b[0m: invalid literal for int() with base 10: '219,614,612'"
     ]
    }
   ],
   "source": [
    "int(\"$219,614,612\") #Doesn't work, good to know"
   ]
  },
  {
   "cell_type": "code",
   "execution_count": 117,
   "metadata": {
    "collapsed": false
   },
   "outputs": [],
   "source": [
    "?int()"
   ]
  },
  {
   "cell_type": "code",
   "execution_count": 53,
   "metadata": {
    "collapsed": false
   },
   "outputs": [
    {
     "ename": "StopIteration",
     "evalue": "",
     "output_type": "error",
     "traceback": [
      "\u001b[0;31m---------------------------------------------------------------------------\u001b[0m",
      "\u001b[0;31mStopIteration\u001b[0m                             Traceback (most recent call last)",
      "\u001b[0;32m<ipython-input-53-d95a5295bb67>\u001b[0m in \u001b[0;36m<module>\u001b[0;34m()\u001b[0m\n\u001b[1;32m      1\u001b[0m \u001b[0;31m#print(\"{}\".format(datasets[1]))\u001b[0m\u001b[0;34m\u001b[0m\u001b[0;34m\u001b[0m\u001b[0m\n\u001b[0;32m----> 2\u001b[0;31m \u001b[0mnext\u001b[0m\u001b[0;34m(\u001b[0m\u001b[0mdatasets\u001b[0m\u001b[0;34m[\u001b[0m\u001b[0;36m1\u001b[0m\u001b[0;34m]\u001b[0m\u001b[0;34m)\u001b[0m\u001b[0;34m\u001b[0m\u001b[0m\n\u001b[0m",
      "\u001b[0;31mStopIteration\u001b[0m: "
     ]
    }
   ],
   "source": [
    "#print(\"{}\".format(datasets[1]))\n",
    "next(datasets[1])#gets each as you iterate through; awkward?"
   ]
  },
  {
   "cell_type": "code",
   "execution_count": 38,
   "metadata": {
    "collapsed": false
   },
   "outputs": [
    {
     "ename": "TypeError",
     "evalue": "'generator' object is not subscriptable",
     "output_type": "error",
     "traceback": [
      "\u001b[0;31m---------------------------------------------------------------------------\u001b[0m",
      "\u001b[0;31mTypeError\u001b[0m                                 Traceback (most recent call last)",
      "\u001b[0;32m<ipython-input-38-16fbf70a8030>\u001b[0m in \u001b[0;36m<module>\u001b[0;34m()\u001b[0m\n\u001b[1;32m      1\u001b[0m \u001b[0;32mfor\u001b[0m \u001b[0md\u001b[0m \u001b[0;32min\u001b[0m \u001b[0mdatasets\u001b[0m\u001b[0;34m:\u001b[0m\u001b[0;34m\u001b[0m\u001b[0m\n\u001b[0;32m----> 2\u001b[0;31m     \u001b[0mprint\u001b[0m\u001b[0;34m(\u001b[0m\u001b[0md\u001b[0m\u001b[0;34m[\u001b[0m\u001b[0;36m0\u001b[0m\u001b[0;34m]\u001b[0m\u001b[0;34m)\u001b[0m\u001b[0;34m\u001b[0m\u001b[0m\n\u001b[0m",
      "\u001b[0;31mTypeError\u001b[0m: 'generator' object is not subscriptable"
     ]
    }
   ],
   "source": [
    "for d in datasets:\n",
    "    print(d)"
   ]
  },
  {
   "cell_type": "code",
   "execution_count": 98,
   "metadata": {
    "collapsed": false
   },
   "outputs": [
    {
     "data": {
      "text/plain": [
       "['Title',\n",
       " 'Year',\n",
       " 'Gross (North America)',\n",
       " 'Title (original)',\n",
       " 'Year (original)',\n",
       " \"Original's gross (North America)\",\n",
       " 'Improvement',\n",
       " ['The Boondock Saints II: All Saints Day',\n",
       "  '2009',\n",
       "  '$10,273,188[1]',\n",
       "  'The Boondock Saints',\n",
       "  '1999',\n",
       "  '$30,471[2]',\n",
       "  '33,714%'],\n",
       " ['Desperado',\n",
       "  '1995',\n",
       "  '$25,405,445[3]',\n",
       "  'El Mariachi',\n",
       "  '1992',\n",
       "  '$2,040,920[3]',\n",
       "  '1,170%'],\n",
       " ['Clerks II',\n",
       "  '2006',\n",
       "  '$24,148,068[4]',\n",
       "  'Clerks',\n",
       "  '1994',\n",
       "  '$3,151,130[5]',\n",
       "  '677%'],\n",
       " ['The Color of Money',\n",
       "  '1986',\n",
       "  '$52,293,982[6]',\n",
       "  'The Hustler',\n",
       "  '1961',\n",
       "  '$7,600,000[7]',\n",
       "  '588%'],\n",
       " ['Terminator 2: Judgment Day',\n",
       "  '1991',\n",
       "  '$204,843,345[8]',\n",
       "  'The Terminator',\n",
       "  '1984',\n",
       "  '$38,371,200[8]',\n",
       "  '434%'],\n",
       " ['Tron: Legacy',\n",
       "  '2010',\n",
       "  '$172,062,763[9]',\n",
       "  'Tron',\n",
       "  '1982',\n",
       "  '$33,000,000[10]',\n",
       "  '421%'],\n",
       " ['Austin Powers: The Spy Who Shagged Me',\n",
       "  '1999',\n",
       "  '$206,040,086[11]',\n",
       "  'Austin Powers: International Man of Mystery',\n",
       "  '1997',\n",
       "  '$53,883,989[11]',\n",
       "  '282%'],\n",
       " ['Rambo: First Blood Part II',\n",
       "  '1985',\n",
       "  '$150,415,432[12]',\n",
       "  'First Blood',\n",
       "  '1982',\n",
       "  '$42,754,105[12]',\n",
       "  '252%'],\n",
       " ['Pitch Perfect 2',\n",
       "  '2015',\n",
       "  '$183,532,105[13]',\n",
       "  'Pitch Perfect',\n",
       "  '2012',\n",
       "  '$65,001,093[13]',\n",
       "  '183%'],\n",
       " ['Mad Max 2: The Road Warrior',\n",
       "  '1981',\n",
       "  '$23,667,907[14]',\n",
       "  'Mad Max',\n",
       "  '1979',\n",
       "  '$8,750,000[14]',\n",
       "  '170%'],\n",
       " ['Highlander II: The Quickening',\n",
       "  '1991',\n",
       "  '$15,556,340[15]',\n",
       "  'Highlander',\n",
       "  '1986',\n",
       "  '$5,900,000[15]',\n",
       "  '164%'],\n",
       " ['The Dark Knight',\n",
       "  '2008',\n",
       "  '$533,345,358[16]',\n",
       "  'Batman Begins',\n",
       "  '2005',\n",
       "  '$205,343,774[16]',\n",
       "  '160%'],\n",
       " ['Evil Dead II',\n",
       "  '1987',\n",
       "  '$5,923,044[17]',\n",
       "  'The Evil Dead',\n",
       "  '1981',\n",
       "  '$2,400,000[17]',\n",
       "  '147%'],\n",
       " ['Lethal Weapon 2',\n",
       "  '1989',\n",
       "  '$147,253,986[18]',\n",
       "  'Lethal Weapon',\n",
       "  '1987',\n",
       "  '$65,207,127[18]',\n",
       "  '126%'],\n",
       " ['Bad Boys II',\n",
       "  '2003',\n",
       "  '$138,608,444[19]',\n",
       "  'Bad Boys',\n",
       "  '1995',\n",
       "  '$65,807,024[20]',\n",
       "  '110%'],\n",
       " ['Harold & Kumar Escape from Guantanamo Bay',\n",
       "  '2008',\n",
       "  '$38,108,728[21]',\n",
       "  'Harold & Kumar Go to White Castle',\n",
       "  '2004',\n",
       "  '$18,250,550[21]',\n",
       "  '109%'],\n",
       " ['Next Friday',\n",
       "  '2000',\n",
       "  '$57,328,603[22]',\n",
       "  'Friday',\n",
       "  '1995',\n",
       "  '$27,467,564[22]',\n",
       "  '108%'],\n",
       " ['The SpongeBob Movie: Sponge Out of Water',\n",
       "  '2015',\n",
       "  '$162,994,032[23]',\n",
       "  'The SpongeBob SquarePants Movie',\n",
       "  '2004',\n",
       "  '$85,417,988[23]',\n",
       "  '90%'],\n",
       " ['Transporter 2',\n",
       "  '2005',\n",
       "  '$43,095,856[24]',\n",
       "  'The Transporter',\n",
       "  '2002',\n",
       "  '$25,296,447[24]',\n",
       "  '70%'],\n",
       " ['Meet the Fockers',\n",
       "  '2004',\n",
       "  '$279,261,160[25]',\n",
       "  'Meet the Parents',\n",
       "  '2000',\n",
       "  '$166,244,045[25]',\n",
       "  '69%'],\n",
       " ['Shrek 2',\n",
       "  '2004',\n",
       "  '$441,226,247[26]',\n",
       "  'Shrek',\n",
       "  '2001',\n",
       "  '$267,665,011[26]',\n",
       "  '65%'],\n",
       " ['The Matrix Reloaded',\n",
       "  '2003',\n",
       "  '$281,576,461[27]',\n",
       "  'The Matrix',\n",
       "  '1999',\n",
       "  '$171,479,930[27]',\n",
       "  '64%'],\n",
       " ['Rush Hour 2',\n",
       "  '2001',\n",
       "  '$226,164,286[28]',\n",
       "  'Rush Hour',\n",
       "  '1998',\n",
       "  '$141,186,864[28]',\n",
       "  '60%'],\n",
       " ['Saw II',\n",
       "  '2005',\n",
       "  '$87,039,965[29]',\n",
       "  'Saw',\n",
       "  '2004',\n",
       "  '$55,185,045[29]',\n",
       "  '58%'],\n",
       " ['Insidious Chapter 2',\n",
       "  '2013',\n",
       "  '$83,586,447[30]',\n",
       "  'Insidious',\n",
       "  '2010',\n",
       "  '$54,009,150[30]',\n",
       "  '55%'],\n",
       " ['From Russia with Love',\n",
       "  '1963',\n",
       "  '$24,796,765[31]',\n",
       "  'Dr. No',\n",
       "  '1962',\n",
       "  '$16,067,035[31]',\n",
       "  '54%'],\n",
       " ['New Moon',\n",
       "  '2009',\n",
       "  '$296,623,634[32]',\n",
       "  'Twilight',\n",
       "  '2008',\n",
       "  '$192,769,854[32]',\n",
       "  '54%'],\n",
       " ['Anchorman 2: The Legend Continues',\n",
       "  '2013',\n",
       "  '$127,352,707[33]',\n",
       "  'Anchorman: The Legend of Ron Burgundy',\n",
       "  '2004',\n",
       "  '$85,288,303[34]',\n",
       "  '50%'],\n",
       " ['Ace Ventura: When Nature Calls',\n",
       "  '1995',\n",
       "  '$108,385,533[35]',\n",
       "  'Ace Ventura: Pet Detective',\n",
       "  '1994',\n",
       "  '$72,217,396[36]',\n",
       "  '50%'],\n",
       " ['Captain America: The Winter Soldier',\n",
       "  '2014',\n",
       "  '$259,766,572[37]',\n",
       "  'Captain America: The First Avenger',\n",
       "  '2011',\n",
       "  '$176,654,505[37]',\n",
       "  '47%'],\n",
       " ['The Chronicles of Riddick',\n",
       "  '2004',\n",
       "  '$57,761,012[38]',\n",
       "  'Pitch Black',\n",
       "  '2000',\n",
       "  '$39,240,659[38]',\n",
       "  '47%'],\n",
       " ['Despicable Me 2',\n",
       "  '2013',\n",
       "  '$368,061,265[39]',\n",
       "  'Despicable Me',\n",
       "  '2010',\n",
       "  '$251,513,985[39]',\n",
       "  '46%'],\n",
       " ['The Bourne Supremacy',\n",
       "  '2004',\n",
       "  '$176,241,941[40]',\n",
       "  'The Bourne Identity',\n",
       "  '2002',\n",
       "  '$121,661,683[40]',\n",
       "  '45%'],\n",
       " ['American Pie 2',\n",
       "  '2001',\n",
       "  '$145,103,595[41]',\n",
       "  'American Pie',\n",
       "  '1999',\n",
       "  '$102,561,004[41]',\n",
       "  '42%'],\n",
       " ['Die Hard 2',\n",
       "  '1990',\n",
       "  '$117,540,947[42]',\n",
       "  'Die Hard',\n",
       "  '1988',\n",
       "  '$83,008,852[42]',\n",
       "  '42%'],\n",
       " [\"Pirates of the Caribbean: Dead Man's Chest\",\n",
       "  '2006',\n",
       "  '$423,315,812[43]',\n",
       "  'Pirates of the Caribbean: The Curse of the Black Pearl',\n",
       "  '2003',\n",
       "  '$305,413,918[43]',\n",
       "  '39%'],\n",
       " ['22 Jump Street',\n",
       "  '2014',\n",
       "  '$191,719,337[44]',\n",
       "  '21 Jump Street',\n",
       "  '2012',\n",
       "  '$138,447,667[45]',\n",
       "  '38%'],\n",
       " ['X2: X-Men United',\n",
       "  '2003',\n",
       "  '$214,949,694[46]',\n",
       "  'X-Men',\n",
       "  '2000',\n",
       "  '$157,299,717[46]',\n",
       "  '37%'],\n",
       " ['For a Few Dollars More',\n",
       "  '1965',\n",
       "  '$15,000,000[47]',\n",
       "  'A Fistful of Dollars',\n",
       "  '1964',\n",
       "  '$11,000,000[48]',\n",
       "  '36%'],\n",
       " [\"The Devil's Rejects\",\n",
       "  '2005',\n",
       "  '$17,044,981[49]',\n",
       "  'House of 1000 Corpses',\n",
       "  '2003',\n",
       "  '$12,634,962[50]',\n",
       "  '35%'],\n",
       " ['The Mummy Returns',\n",
       "  '2001',\n",
       "  '$202,019,785[51]',\n",
       "  'The Mummy',\n",
       "  '1999',\n",
       "  '$155,385,488[51]',\n",
       "  '30%'],\n",
       " ['Toy Story 2',\n",
       "  '1999',\n",
       "  '$245,823,397[52]',\n",
       "  'Toy Story',\n",
       "  '1995',\n",
       "  '$191,796,233[52]',\n",
       "  '28%'],\n",
       " ['Hellboy II: The Golden Army',\n",
       "  '2008',\n",
       "  '$75,986,503[53]',\n",
       "  'Hellboy',\n",
       "  '2004',\n",
       "  '$59,623,958[53]',\n",
       "  '27%'],\n",
       " ['The Karate Kid, Part II',\n",
       "  '1986',\n",
       "  '$115,103,979[54]',\n",
       "  'The Karate Kid',\n",
       "  '1984',\n",
       "  '$90,815,558[54]',\n",
       "  '27%'],\n",
       " ['Hannibal',\n",
       "  '2001',\n",
       "  '$165,092,056[55]',\n",
       "  'The Silence of the Lambs',\n",
       "  '1991',\n",
       "  '$130,742,922[55]',\n",
       "  '26%'],\n",
       " ['Transformers: Revenge of the Fallen',\n",
       "  '2009',\n",
       "  '$402,111,870[56]',\n",
       "  'Transformers',\n",
       "  '2007',\n",
       "  '$319,246,193[56]',\n",
       "  '26%'],\n",
       " [\"Madea's Family Reunion\",\n",
       "  '2006',\n",
       "  '$63,257,940[57]',\n",
       "  'Diary of a Mad Black Woman',\n",
       "  '2005',\n",
       "  '$50,633,099[57]',\n",
       "  '25%'],\n",
       " ['Resident Evil: Apocalypse',\n",
       "  '2004',\n",
       "  '$51,201,453[58]',\n",
       "  'Resident Evil',\n",
       "  '2002',\n",
       "  '$40,119,709[58]',\n",
       "  '25%'],\n",
       " ['Wall Street: Money Never Sleeps',\n",
       "  '2010',\n",
       "  '$52,474,616[59]',\n",
       "  'Wall Street',\n",
       "  '1987',\n",
       "  '$43,848,069[60]',\n",
       "  '20%'],\n",
       " ['Ernest Saves Christmas',\n",
       "  '1988',\n",
       "  '$28,202,109[61]',\n",
       "  'Ernest Goes to Camp',\n",
       "  '1987',\n",
       "  '$23,509,382[61]',\n",
       "  '20%'],\n",
       " ['Underworld: Evolution',\n",
       "  '2006',\n",
       "  '$62,318,875[62]',\n",
       "  'Underworld',\n",
       "  '2003',\n",
       "  '$51,970,690[62]',\n",
       "  '20%'],\n",
       " ['Mission: Impossible 2',\n",
       "  '2000',\n",
       "  '$215,409,889[63]',\n",
       "  'Mission: Impossible',\n",
       "  '1996',\n",
       "  '$180,981,886[63]',\n",
       "  '19%'],\n",
       " [\"A Nightmare on Elm Street Part 2: Freddy's Revenge\",\n",
       "  '1985',\n",
       "  '$29,999,213[64]',\n",
       "  'A Nightmare on Elm Street',\n",
       "  '1984',\n",
       "  '$25,504,513[64]',\n",
       "  '18%'],\n",
       " ['Dawn of the Planet of the Apes',\n",
       "  '2014',\n",
       "  '$208,545,589[65]',\n",
       "  'Rise of the Planet of the Apes',\n",
       "  '2011',\n",
       "  '$176,760,185[65]',\n",
       "  '18%'],\n",
       " ['Blade II',\n",
       "  '2002',\n",
       "  '$82,348,319[66]',\n",
       "  'Blade',\n",
       "  '1998',\n",
       "  '$70,087,718[66]',\n",
       "  '17%'],\n",
       " ['Thor: The Dark World',\n",
       "  '2013',\n",
       "  '$206,362,140[67]',\n",
       "  'Thor',\n",
       "  '2011',\n",
       "  '$181,030,624[67]',\n",
       "  '14%'],\n",
       " ['A Shot in the Dark',\n",
       "  '1964',\n",
       "  '$12,368,234',\n",
       "  'The Pink Panther[68]',\n",
       "  '1963',\n",
       "  '$10,878,107[68]',\n",
       "  '14%'],\n",
       " ['Jackass: Number Two',\n",
       "  '2006',\n",
       "  '$72,778,712[69]',\n",
       "  'Jackass: The Movie',\n",
       "  '2002',\n",
       "  '$64,255,312[69]',\n",
       "  '13%'],\n",
       " ['Magnum Force',\n",
       "  '1973',\n",
       "  '$39,768,000[70]',\n",
       "  'Dirty Harry',\n",
       "  '1971',\n",
       "  '$35,976,000[70]',\n",
       "  '11%'],\n",
       " ['Ice Age: The Meltdown',\n",
       "  '2006',\n",
       "  '$195,321,662[71]',\n",
       "  'Ice Age',\n",
       "  '2002',\n",
       "  '$176,387,405[71]',\n",
       "  '11%'],\n",
       " ['The Naked Gun 2½: The Smell of Fear',\n",
       "  '1991',\n",
       "  '$86,930,411[72]',\n",
       "  'The Naked Gun: From the Files of Police Squad!',\n",
       "  '1988',\n",
       "  '$78,756,177[72]',\n",
       "  '10%'],\n",
       " ['The Lord of the Rings: The Two Towers',\n",
       "  '2002',\n",
       "  '$339,789,881[73]',\n",
       "  'The Lord of the Rings: The Fellowship of the Ring',\n",
       "  '2001',\n",
       "  '$313,364,114[73]',\n",
       "  '8%'],\n",
       " ['Aliens',\n",
       "  '1986',\n",
       "  '$85,160,248[74]',\n",
       "  'Alien',\n",
       "  '1979',\n",
       "  '$78,944,891[74]',\n",
       "  '8%'],\n",
       " ['Shanghai Knights',\n",
       "  '2003',\n",
       "  '$60,476,872[75]',\n",
       "  'Shanghai Noon',\n",
       "  '2000',\n",
       "  '$56,937,502[76]',\n",
       "  '6%'],\n",
       " ['Monsters University',\n",
       "  '2013',\n",
       "  '$268,492,764[77]',\n",
       "  'Monsters, Inc.',\n",
       "  '2001',\n",
       "  '$255,873,250[77]',\n",
       "  '5%'],\n",
       " ['Before Sunset',\n",
       "  '2004',\n",
       "  '$5,820,649[78]',\n",
       "  'Before Sunrise',\n",
       "  '1995',\n",
       "  '$5,535,405[78]',\n",
       "  '5%'],\n",
       " ['The Hunger Games: Catching Fire',\n",
       "  '2013',\n",
       "  '$424,668,047[79]',\n",
       "  'The Hunger Games',\n",
       "  '2012',\n",
       "  '$408,010,692[79]',\n",
       "  '4%'],\n",
       " ['Journey 2: The Mysterious Island',\n",
       "  '2012',\n",
       "  '$103,860,290[80]',\n",
       "  'Journey to the Center of the Earth',\n",
       "  '2008',\n",
       "  '$101,704,370[80]',\n",
       "  '2%'],\n",
       " ['Alvin and the Chipmunks: The Squeakquel',\n",
       "  '2009',\n",
       "  '$219,614,612[81]',\n",
       "  'Alvin and the Chipmunks',\n",
       "  '2007',\n",
       "  '$217,326,974[81]',\n",
       "  '1%'],\n",
       " ['Quantum of Solace',\n",
       "  '2008',\n",
       "  '$168,368,427[31]',\n",
       "  'Casino Royale',\n",
       "  '2006',\n",
       "  '$167,445,960[31]',\n",
       "  '1%']]"
      ]
     },
     "execution_count": 98,
     "metadata": {},
     "output_type": "execute_result"
    }
   ],
   "source": [
    "headings"
   ]
  },
  {
   "cell_type": "code",
   "execution_count": 29,
   "metadata": {
    "collapsed": true
   },
   "outputs": [],
   "source": [
    "?zip()"
   ]
  },
  {
   "cell_type": "code",
   "execution_count": 96,
   "metadata": {
    "collapsed": false
   },
   "outputs": [],
   "source": [
    "?pd.DataFrame"
   ]
  }
 ],
 "metadata": {
  "kernelspec": {
   "display_name": "Python 3",
   "language": "python",
   "name": "python3"
  },
  "language_info": {
   "codemirror_mode": {
    "name": "ipython",
    "version": 3
   },
   "file_extension": ".py",
   "mimetype": "text/x-python",
   "name": "python",
   "nbconvert_exporter": "python",
   "pygments_lexer": "ipython3",
   "version": "3.5.2"
  }
 },
 "nbformat": 4,
 "nbformat_minor": 1
}
