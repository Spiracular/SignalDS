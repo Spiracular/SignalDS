{
 "cells": [
  {
   "cell_type": "code",
   "execution_count": null,
   "metadata": {
    "collapsed": true
   },
   "outputs": [],
   "source": [
    "#ggplot2 series of miniplots,\n",
    "#from https://www.kaggle.com/apryor6/d/uciml/forest-cover-type-dataset/random-forests-predicting-forest-coverage\n",
    "ggplot(data=df) +\n",
    "  geom_bar(aes(x=Cover_Type,fill=Cover_Type),color=\"black\") + \n",
    "  facet_wrap(~Soil,scale=\"free\") +\n",
    "  theme_bw() +\n",
    "  xlab(\"Count\") + \n",
    "  ylab(\"Tree Cover Type\") + \n",
    "  ggtitle(\"Coverage Type vs Region\")+\n",
    "  theme(axis.text=element_blank()) + \n",
    "  theme(legend.position= \"bottom\")"
   ]
  },
  {
   "cell_type": "code",
   "execution_count": null,
   "metadata": {
    "collapsed": true
   },
   "outputs": [],
   "source": [
    "#rainbow bar graph by state, in sns\n",
    "sns.countplot()\n",
    "sns.plt.xticks(rotation=90)"
   ]
  },
  {
   "cell_type": "code",
   "execution_count": null,
   "metadata": {
    "collapsed": true
   },
   "outputs": [],
   "source": [
    "#Example of setting reusable themes for ggplot2\n",
    "\n",
    "my_theme <- theme_bw() +\n",
    "  theme(axis.title=element_text(size=24),\n",
    "        plot.title=element_text(size=36),\n",
    "        axis.text =element_text(size=16))\n",
    "\n",
    "my_theme_dark <- theme_dark() +\n",
    "  theme(axis.title=element_text(size=24),\n",
    "        plot.title=element_text(size=36),\n",
    "        axis.text =element_text(size=16))\n",
    "    \n",
    "    ###This particular one is used strongly against my tastes, but the idea overall seems like a good one"
   ]
  },
  {
   "cell_type": "code",
   "execution_count": null,
   "metadata": {
    "collapsed": true
   },
   "outputs": [],
   "source": [
    "#log-scale of num_of_causes (top to lowest?) by fraction_of_deaths explained\n",
    "\n",
    "plt.figure(figsize=figsize)\n",
    "title = 'Relative value of death '\n",
    "for n in [9, 99, len(dfRank.AccumRelValue)-1]:\n",
    "    title += \"\\n{} diseases claimed the {:.0f}% of lives\".format(n+1, dfRank.AccumRelValue[n]*100.)\n",
    "\n",
    "plt.title(title, fontsize=18)\n",
    "plt.fill_between(range(dfRank.AccumRelValue.count()), dfRank.AccumRelValue, [0] * dfRank.AccumRelValue.count())\n",
    "plt.xlabel('count of diseases')\n",
    "plt.ylabel('relative value of total deaths')\n",
    "plt.xscale('log')\n",
    "plt.xlim(0,len(xx))\n",
    "plt.ylim(0, 1)\n",
    "plt.legend()"
   ]
  },
  {
   "cell_type": "code",
   "execution_count": null,
   "metadata": {
    "collapsed": true
   },
   "outputs": [],
   "source": []
  }
 ],
 "metadata": {
  "kernelspec": {
   "display_name": "Python 3",
   "language": "python",
   "name": "python3"
  },
  "language_info": {
   "codemirror_mode": {
    "name": "ipython",
    "version": 3
   },
   "file_extension": ".py",
   "mimetype": "text/x-python",
   "name": "python",
   "nbconvert_exporter": "python",
   "pygments_lexer": "ipython3",
   "version": "3.5.2"
  }
 },
 "nbformat": 4,
 "nbformat_minor": 1
}
