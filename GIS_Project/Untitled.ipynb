{
 "cells": [
  {
   "cell_type": "code",
   "execution_count": null,
   "metadata": {
    "collapsed": true
   },
   "outputs": [],
   "source": [
    "#Hard-to-implement idea, but letting an unsupervised\n",
    "#Algorithm play GeoGuessr and then pulling out the patterns\n",
    "#It has learned to recognize would be really interesting.\n",
    "#Hard, though!\n",
    "\n",
    "#Oh, great. GIS is a whole science...\n",
    "\n",
    "#Easier proposal: using Google Earth overheads to estimate the\n",
    "#poverty level and population density of areas?\n",
    "\n",
    "##Broad search idea: city planning applications? (something\n",
    "#something correlates of efficiency vs. construction details.\n",
    "#Ex: roof color and cooling bills?)\n",
    "\n",
    "#Correlate epidemics with overhead visuals?\n",
    "#Sort diseases into urban and rural variants after-the-fact?\n",
    "#Would that even make sense? (probs not)\n",
    "\n",
    "#OH! OH OH OH! Characterize mineral content and deficiencies\n",
    "#with overheads, try to figure out what soil content is like\n",
    "#from overheads in new areas, check against actual.\n",
    "\n",
    "#So, perhaps it needs to be database-linked? I may want to\n",
    "#have an easier back-up project in mind even if I start this.\n",
    "\n",
    "#Trying to infer what country an overhead is in? (it'll\n",
    "#probably take to characterizing by weather, though...)\n",
    "\n",
    "#This looks like it'll be extremely hard to implement.\n",
    "#QGIS with Python plug-ins may be the relevant thing,\n",
    "#but it's hard to settle into a project I feel I can\n",
    "#actually complete in 2-3 weeks.\n",
    "\n"
   ]
  },
  {
   "cell_type": "markdown",
   "metadata": {},
   "source": [
    "Projects I think I can actually complete in the time given?\n",
    "\n",
    "Think over the characteristics page, and look back over the curriculum list?"
   ]
  },
  {
   "cell_type": "markdown",
   "metadata": {},
   "source": [
    "## Characteristics that your project should have\n",
    "1. Of enough general interest to hold people's attention. People (even data scientists) have short attention spans, and pay more attention to things that they find interesting. Your project should be something that people will find engaging to learn about. \n",
    "\n",
    "1. Something that shows skills of commercial relevance. Having a project that's business-y in nature isn't a hard requirement, but what you do should be something that can be spun as having business relevance in principle. Recommender systems make strong final projects, as do projects that could be used to inform business decisions.\n",
    "\n",
    "1. Something tractable. Two weeks is not a long time. You should content yourself to do a project that's of some degree of interest, rather than insisting on doing something that's genuinely useful or groundbreaking. If you think that your case might be exceptional can talk about exceptions. \n",
    "\n",
    "1. Many intermediate stopping points, including stopping points early on. A major potential failure mode in doing a projectis planning fallacy: \n",
    "\n",
    "1. The planning fallacy, first proposed by Daniel Kahneman and Amos Tversky in 1979, is a phenomenon in which predictions about how much time will be needed to complete a future task display an optimism bias (underestimate the time needed). \n",
    "\n",
    "You should work on something where you'll have something to show after just a couple days, even if it's some distance from your final goal, and where every day or two you have something more to show. That way if things take far longer than you were expecting, you'll still end up with a reasonable project."
   ]
  }
 ],
 "metadata": {
  "kernelspec": {
   "display_name": "Python 3",
   "language": "python",
   "name": "python3"
  },
  "language_info": {
   "codemirror_mode": {
    "name": "ipython",
    "version": 3
   },
   "file_extension": ".py",
   "mimetype": "text/x-python",
   "name": "python",
   "nbconvert_exporter": "python",
   "pygments_lexer": "ipython3",
   "version": "3.5.2"
  }
 },
 "nbformat": 4,
 "nbformat_minor": 0
}
