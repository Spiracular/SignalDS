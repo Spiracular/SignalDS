{
 "cells": [
  {
   "cell_type": "markdown",
   "metadata": {},
   "source": [
    "## Some quick reference outputs\n",
    "\n",
    "[Old Work on Organizing Data Science (including a collection of some datasets that interest me)](https://drive.google.com/open?id=0B5LtdvmecdONQUo0UExiWm9jNEU)\n",
    "\n",
    "[Scipy.stats distributions list](http://docs.scipy.org/doc/scipy/reference/stats.html)\n",
    "\n",
    "### Primary tools\n",
    "- R\n",
    "- Python\n",
    "- SQL\n",
    "- Statistics knowledge and ML tools\n",
    "    - Basic\n",
    "        - LM\n",
    "        - SVM\n",
    "        - Multivariate Regression\n",
    "    - Complex\n",
    "        - MCMC\n",
    "        - Principal Component Analysis\n",
    "        - Clustering?\n",
    "        - Gaussian Process?\n",
    "        - Neural Nets (Multilayer Perceptron?)\n",
    "        - \n",
    "    - Unknown\n",
    "        - Random Forest\n",
    "        - Decision Trees\n",
    "        - \n",
    "- Verification/Certainty/Testing Tools\n",
    "    - Simple yet excellent\n",
    "        - Effect Size\n",
    "        - Cross-validation\n",
    "        - Bootstrapping (&/or OOB)\n",
    "        -\n",
    "    - Complex\n",
    "        - Stepping-stone analysis\n",
    "        - Path Sampling\n",
    "        - Reading Trace\n",
    "        - \n",
    "- Model Selection (vague, but must demonstrate)\n",
    "- Data cleaning\n",
    "- EDA"
   ]
  },
  {
   "cell_type": "markdown",
   "metadata": {},
   "source": [
    "## Some quick and early thoughts\n",
    "\n",
    "- Definitely something Bayesian (establish priors, show work)\n",
    "\n",
    "- Definitely want a beautiful series of output graphs or diagrams\n",
    "\n",
    "~~...I'm tempted to use Python on that later basis alone, but I'm sure there do exist beautiful ways to present in either of R and Python. It just has to be public, accomodate code, showcase graphs well, and abide LaTex.~~\n",
    "\n",
    "(Bonus points if you can use D3.js, but I wouldn't worry about it unless you know you have 4D output worth showing.)\n",
    "\n",
    "- Want to show off ability to have discernment/\"strong opinions\" around certainty measures.\n",
    "\n",
    "**Lets play with a few of your known datasets.**\n",
    "\n",
    "- *In what contexts would you enjoy spending 20+hours trying to read meaning into datasets?*\n",
    "\n",
    "- *What datasets are conductive to showcasing business intelligence?*\n",
    "\n",
    "- What are you likely to get hired for? What will they be interested in seeing you demonstrate?\n",
    "\n",
    "- Additional piece: showcase your final project with RevBayes & cynipidae dataset\n",
    "\n",
    "- Show off ability to use LaTex and explain things\n",
    "\n",
    "Things that might interest me?\n",
    "\n",
    "- Taxonomy generally. Pandoravirus in particular.\n",
    "\n",
    "- Embryonic Stem Cell development towards meat? (hormones and/or TFs, interpretation)\n",
    "\n",
    "- **Transcription Factors** (and researching, linking them to outcomes, and interpretting)\n",
    "\n",
    "- Botanical Gardens\n",
    "\n",
    "### Things that compound difficulty, but would enable a really excellent showcase:\n",
    "- GIS (showy and highly-desired in agriculture)\n",
    "- **Bayesian Analysis Libraries (STAN?)** (Do it anyway. It'll win you influence and weird friends.)\n",
    "- Learning enough economics to do a complex microecon analysis (Hard, might be \"boring\", no.)\n",
    "- "
   ]
  },
  {
   "cell_type": "markdown",
   "metadata": {},
   "source": [
    "## Showcasing references\n",
    "\n",
    "- Github\n",
    "- Jupyter notebook place (find link)\n",
    "- Bl.Ocks? (or something)\n",
    "- ModeAnalytics (Oh, also trawl them for datasets.)\n",
    "- Kaggle? (If you turn out to have L33T ML skillz, which I'm not sure I will)\n",
    "- "
   ]
  },
  {
   "cell_type": "markdown",
   "metadata": {
    "collapsed": true
   },
   "source": [
    "# Papers\n",
    "\n",
    "[Wangyang Xie](https://www.ncbi.nlm.nih.gov/pubmed/?term=Xie%20W%5BAuthor%5D&cauthor=true&cauthor_uid=21187451) has some papers on Bayesian Marginal Likelihood Estimation ([example](https://www.ncbi.nlm.nih.gov/pmc/articles/PMC3038348/)), and [supposedly](http://phylo.bio.ku.edu/slides/HolderAustinSteppingstone.pdf) cowrote one of the major papers on Steppingstone sampling (Xie et al. 2011, Fan et al. 2011).\n",
    "\n",
    "Steppingstone sampling is apparently a derivative of Importance sampling (where an easier distribution is sampled, and then modified accoarding to weights derived from the more complex model). Steppingstone sampling uses a series of importance sampling runs to approximate the posterior density?\n",
    "\n",
    "http://phylo.bio.ku.edu/slides/HolderAustinSteppingstone.pdf\n",
    "\n",
    "(Annoyance: stepping stone analysis typically refers to a hacking method.)\n",
    "\n",
    "Harmonic Mean for Monte Carlo is apparently [just awful](https://radfordneal.wordpress.com/2008/08/17/the-harmonic-mean-of-the-likelihood-worst-monte-carlo-method-ever/) if most of the parameter space has low likelihood dotted with regions of high likelihood."
   ]
  }
 ],
 "metadata": {
  "kernelspec": {
   "display_name": "Python 3",
   "language": "python",
   "name": "python3"
  },
  "language_info": {
   "codemirror_mode": {
    "name": "ipython",
    "version": 3
   },
   "file_extension": ".py",
   "mimetype": "text/x-python",
   "name": "python",
   "nbconvert_exporter": "python",
   "pygments_lexer": "ipython3",
   "version": "3.5.1"
  }
 },
 "nbformat": 4,
 "nbformat_minor": 0
}
